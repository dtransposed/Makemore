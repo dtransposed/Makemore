{
 "cells": [
  {
   "cell_type": "code",
   "execution_count": 1,
   "id": "ff5356d8",
   "metadata": {},
   "outputs": [
    {
     "name": "stdout",
     "output_type": "stream",
     "text": [
      "--2023-01-22 09:19:02--  https://raw.githubusercontent.com/karpathy/char-rnn/master/data/tinyshakespeare/input.txt\n",
      "Resolving raw.githubusercontent.com (raw.githubusercontent.com)... 185.199.110.133, 185.199.109.133, 185.199.108.133, ...\n",
      "Connecting to raw.githubusercontent.com (raw.githubusercontent.com)|185.199.110.133|:443... connected.\n",
      "HTTP request sent, awaiting response... 200 OK\n",
      "Length: 1115394 (1.1M) [text/plain]\n",
      "Saving to: ‘input.txt.3’\n",
      "\n",
      "input.txt.3         100%[===================>]   1.06M  3.80MB/s    in 0.3s    \n",
      "\n",
      "2023-01-22 09:19:03 (3.80 MB/s) - ‘input.txt.3’ saved [1115394/1115394]\n",
      "\n"
     ]
    }
   ],
   "source": [
    "!wget https://raw.githubusercontent.com/karpathy/char-rnn/master/data/tinyshakespeare/input.txt"
   ]
  },
  {
   "cell_type": "code",
   "execution_count": 2,
   "id": "3f09c19e",
   "metadata": {},
   "outputs": [],
   "source": [
    "import torch"
   ]
  },
  {
   "cell_type": "code",
   "execution_count": 3,
   "id": "61b6232f",
   "metadata": {},
   "outputs": [],
   "source": [
    "f = open(\"input.txt\", \"r\")"
   ]
  },
  {
   "cell_type": "code",
   "execution_count": 4,
   "id": "0d2f9ec9",
   "metadata": {},
   "outputs": [],
   "source": [
    "shakespear = f.read()"
   ]
  },
  {
   "cell_type": "code",
   "execution_count": 5,
   "id": "c64ccf4f",
   "metadata": {},
   "outputs": [
    {
     "data": {
      "text/plain": [
       "1115394"
      ]
     },
     "execution_count": 5,
     "metadata": {},
     "output_type": "execute_result"
    }
   ],
   "source": [
    "len(shakespear)"
   ]
  },
  {
   "cell_type": "code",
   "execution_count": 6,
   "id": "a0405bde",
   "metadata": {},
   "outputs": [
    {
     "data": {
      "text/plain": [
       "'First Citizen:\\nBefore we proceed any further, hear'"
      ]
     },
     "execution_count": 6,
     "metadata": {},
     "output_type": "execute_result"
    }
   ],
   "source": [
    "shakespear[:50]"
   ]
  },
  {
   "cell_type": "code",
   "execution_count": 7,
   "id": "8485362d",
   "metadata": {},
   "outputs": [],
   "source": [
    "alphabet = sorted(list(set(shakespear)))"
   ]
  },
  {
   "cell_type": "code",
   "execution_count": 8,
   "id": "0a913d41",
   "metadata": {},
   "outputs": [
    {
     "name": "stdout",
     "output_type": "stream",
     "text": [
      "\n",
      " !$&',-.3:;?ABCDEFGHIJKLMNOPQRSTUVWXYZabcdefghijklmnopqrstuvwxyz\n"
     ]
    }
   ],
   "source": [
    "print(''.join(alphabet))"
   ]
  },
  {
   "cell_type": "code",
   "execution_count": 9,
   "id": "646db574",
   "metadata": {},
   "outputs": [
    {
     "name": "stdout",
     "output_type": "stream",
     "text": [
      "65\n"
     ]
    }
   ],
   "source": [
    "print(len(alphabet))"
   ]
  },
  {
   "cell_type": "code",
   "execution_count": 10,
   "id": "3cefd691",
   "metadata": {},
   "outputs": [],
   "source": [
    "tok2char = {tok: char for tok, char in enumerate(alphabet)}\n",
    "char2tok = {char: tok for tok, char in enumerate(alphabet)}"
   ]
  },
  {
   "cell_type": "code",
   "execution_count": 11,
   "id": "22b69ad0",
   "metadata": {},
   "outputs": [],
   "source": [
    "def encode(inp: str, map_ = char2tok):\n",
    "    return [map_[char] for char in inp]\n",
    "\n",
    "def decode(inp: str, map_ = tok2char):\n",
    "    return [map_[char] for char in inp]"
   ]
  },
  {
   "cell_type": "code",
   "execution_count": 12,
   "id": "e9616193",
   "metadata": {},
   "outputs": [],
   "source": [
    "shakespear_tok = torch.tensor(encode(shakespear))"
   ]
  },
  {
   "cell_type": "code",
   "execution_count": 15,
   "id": "058551f2",
   "metadata": {},
   "outputs": [
    {
     "data": {
      "text/plain": [
       "tensor([18, 47, 56,  ..., 45,  8,  0])"
      ]
     },
     "execution_count": 15,
     "metadata": {},
     "output_type": "execute_result"
    }
   ],
   "source": [
    "shakespear_tok"
   ]
  },
  {
   "cell_type": "code",
   "execution_count": 16,
   "id": "2a1f2693",
   "metadata": {},
   "outputs": [],
   "source": [
    "split = 0.9\n",
    "split_idx = int(split * len(shakespear_tok))\n",
    "train_data = shakespear_tok[:split_idx]\n",
    "val_data = shakespear_tok[split_idx:]"
   ]
  },
  {
   "cell_type": "code",
   "execution_count": 17,
   "id": "560f748e",
   "metadata": {},
   "outputs": [
    {
     "data": {
      "text/plain": [
       "1003854"
      ]
     },
     "execution_count": 17,
     "metadata": {},
     "output_type": "execute_result"
    }
   ],
   "source": [
    "len(train_data)"
   ]
  },
  {
   "cell_type": "code",
   "execution_count": 18,
   "id": "d3da33f9",
   "metadata": {},
   "outputs": [
    {
     "data": {
      "text/plain": [
       "111540"
      ]
     },
     "execution_count": 18,
     "metadata": {},
     "output_type": "execute_result"
    }
   ],
   "source": [
    "len(val_data)"
   ]
  },
  {
   "cell_type": "code",
   "execution_count": 24,
   "id": "d947bf8f",
   "metadata": {},
   "outputs": [],
   "source": [
    "block_size = 8 # what is the maximum context_length for predictions\n",
    "batch_size = 4 # how many independent sequences in parallel"
   ]
  },
  {
   "cell_type": "code",
   "execution_count": 82,
   "id": "3e611b02",
   "metadata": {},
   "outputs": [
    {
     "data": {
      "text/plain": [
       "<torch._C.Generator at 0x10f6f0bd0>"
      ]
     },
     "execution_count": 82,
     "metadata": {},
     "output_type": "execute_result"
    }
   ],
   "source": [
    "torch.manual_seed(1337)"
   ]
  },
  {
   "cell_type": "code",
   "execution_count": 53,
   "id": "1f3e00e6",
   "metadata": {},
   "outputs": [],
   "source": [
    "def get_batch(data):\n",
    "    starting_idxs = torch.randint(0, len(data) - block_size, (batch_size,))\n",
    "    x = torch.stack([data[idx: idx + block_size] for idx in starting_idxs])\n",
    "    y = torch.stack([data[idx+1: idx+1 + block_size] for idx in starting_idxs])\n",
    "    return x, y"
   ]
  },
  {
   "cell_type": "code",
   "execution_count": 54,
   "id": "2e3508be",
   "metadata": {},
   "outputs": [
    {
     "data": {
      "text/plain": [
       "(tensor([[57, 43, 60, 43, 52,  1, 63, 43],\n",
       "         [60, 43, 42,  8,  0, 25, 63,  1],\n",
       "         [56, 42,  5, 57,  1, 57, 39, 49],\n",
       "         [43, 57, 58, 63,  6,  1, 58, 46]]),\n",
       " tensor([[43, 60, 43, 52,  1, 63, 43, 39],\n",
       "         [43, 42,  8,  0, 25, 63,  1, 45],\n",
       "         [42,  5, 57,  1, 57, 39, 49, 43],\n",
       "         [57, 58, 63,  6,  1, 58, 46, 47]]))"
      ]
     },
     "execution_count": 54,
     "metadata": {},
     "output_type": "execute_result"
    }
   ],
   "source": [
    "get_batch(train_data)"
   ]
  },
  {
   "cell_type": "code",
   "execution_count": 88,
   "id": "178d1598",
   "metadata": {},
   "outputs": [],
   "source": [
    "torch.manual_seed(1337)\n",
    "B, T, C = 4, 8, 32 # batch, time (len sequence), channels (embeddings)\n",
    "x = torch.randn(B,T,C)"
   ]
  },
  {
   "cell_type": "code",
   "execution_count": null,
   "id": "1889aab8",
   "metadata": {},
   "outputs": [],
   "source": []
  }
 ],
 "metadata": {
  "kernelspec": {
   "display_name": "neuralmagic",
   "language": "python",
   "name": "python3"
  },
  "language_info": {
   "codemirror_mode": {
    "name": "ipython",
    "version": 3
   },
   "file_extension": ".py",
   "mimetype": "text/x-python",
   "name": "python",
   "nbconvert_exporter": "python",
   "pygments_lexer": "ipython3",
   "version": "3.8.6"
  }
 },
 "nbformat": 4,
 "nbformat_minor": 5
}
