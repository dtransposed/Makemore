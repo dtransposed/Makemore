{
 "cells": [
  {
   "cell_type": "code",
   "execution_count": 1,
   "id": "86c488b5",
   "metadata": {},
   "outputs": [],
   "source": [
    "import json\n",
    "import re\n",
    "import torch\n",
    "import matplotlib.pyplot as plt"
   ]
  },
  {
   "cell_type": "code",
   "execution_count": 2,
   "id": "1d3f5705",
   "metadata": {},
   "outputs": [],
   "source": [
    "generator = torch.Generator().manual_seed(420)"
   ]
  },
  {
   "cell_type": "code",
   "execution_count": 3,
   "id": "6a32c060",
   "metadata": {},
   "outputs": [],
   "source": [
    "# MLP"
   ]
  },
  {
   "cell_type": "code",
   "execution_count": 4,
   "id": "1335d0b3",
   "metadata": {},
   "outputs": [],
   "source": [
    "## Prepare the dataset"
   ]
  },
  {
   "cell_type": "code",
   "execution_count": 5,
   "id": "1af06029",
   "metadata": {},
   "outputs": [],
   "source": [
    "# Specifies the train/val/test split \n",
    "#(test will be inferred; it is just the remaining data)\n",
    "\n",
    "train_split = 0.8\n",
    "val_split = 0.1 "
   ]
  },
  {
   "cell_type": "code",
   "execution_count": 6,
   "id": "99a7f52a",
   "metadata": {},
   "outputs": [
    {
     "name": "stdout",
     "output_type": "stream",
     "text": [
      "The dataset contains 908 names.\n",
      "\n",
      "Choosing 726 words for training.\n",
      "Choosing 91 words for validation.\n",
      "Choosing 91 words for testing.\n",
      "\n",
      "Our alphabet consists of 27 characters: \n",
      "['.', 'a', 'b', 'c', 'd', 'e', 'f', 'g', 'h', 'i', 'j', 'k', 'l', 'm', 'n', 'o', 'p', 'q', 'r', 's', 't', 'u', 'v', 'w', 'x', 'y', 'z']\n"
     ]
    }
   ],
   "source": [
    "with open('../pokemons.json', 'r') as f:\n",
    "    words = json.load(f)['names']\n",
    "\n",
    "# remove weird characters from names\n",
    "words = [re.sub(r'[^a-zA-Z]', '', word) for word in words]\n",
    "\n",
    "# a character that serves as both start and end sentence token\n",
    "special_token = \".\"\n",
    "\n",
    "# prepare an alphabet: Set[str]\n",
    "alphabet = list(set(''.join(words)))\n",
    "alphabet.append(\".\")\n",
    "alphabet.sort()\n",
    "\n",
    "num_training_words = round(train_split * len(words))\n",
    "num_validation_words = round(val_split * len(words))\n",
    "num_test_words = len(words) - (num_training_words + num_validation_words)\n",
    "\n",
    "training_words = words[:num_training_words]\n",
    "validation_words = words[num_training_words:(num_validation_words + num_training_words)]\n",
    "test_words = words[(num_validation_words + num_training_words):]\n",
    "\n",
    "print(f\"The dataset contains {len(words)} names.\\n\")\n",
    "\n",
    "print(f\"Choosing {len(training_words)} words for training.\")\n",
    "print(f\"Choosing {len(validation_words)} words for validation.\")\n",
    "print(f\"Choosing {len(test_words)} words for testing.\\n\")\n",
    "\n",
    "print(f\"Our alphabet consists of {len(alphabet)} characters: \\n{alphabet}\")"
   ]
  },
  {
   "cell_type": "code",
   "execution_count": 7,
   "id": "399c3ad2",
   "metadata": {},
   "outputs": [],
   "source": [
    "block_size = 3"
   ]
  },
  {
   "cell_type": "code",
   "execution_count": 8,
   "id": "973b97ac",
   "metadata": {},
   "outputs": [],
   "source": [
    "def words_to_nn_dataset(words, block_size):\n",
    "    inputs, labels = [], []\n",
    "    for w in words:\n",
    "        context = [alphabet.index(\".\")] * block_size\n",
    "        for char in w + '.':\n",
    "            idx = alphabet.index(char)\n",
    "            inputs.append(context)\n",
    "            labels.append(idx)\n",
    "            context = context[1:] + [idx]\n",
    "        \n",
    "    return torch.tensor(inputs), torch.tensor(labels)"
   ]
  },
  {
   "cell_type": "code",
   "execution_count": 9,
   "id": "4cba279e",
   "metadata": {},
   "outputs": [],
   "source": [
    "train_set = words_to_nn_dataset(training_words, block_size)\n",
    "val_set = words_to_nn_dataset(validation_words, block_size)\n",
    "test_set = words_to_nn_dataset(test_words, block_size)"
   ]
  },
  {
   "cell_type": "code",
   "execution_count": 10,
   "id": "e7be0aed",
   "metadata": {},
   "outputs": [],
   "source": [
    "class MLP:\n",
    "    def __init__(self, train_set, \n",
    "                       val_set, \n",
    "                       test_set,\n",
    "                       no_epochs,\n",
    "                       embedding_size, \n",
    "                       hidden_layer, \n",
    "                       block_size, \n",
    "                       lr,\n",
    "                       batch_size,\n",
    "                       generator = generator):\n",
    "        \n",
    "        self.train_inputs, self.train_labels = train_set\n",
    "        self.val_inputs, self.val_labels = val_set\n",
    "        self.test_inputs, self.test_labels = test_set\n",
    "        self.embedding_size = embedding_size\n",
    "        self.hidden_layer = hidden_layer\n",
    "        self.batch_size = batch_size\n",
    "        self.no_epochs = no_epochs\n",
    "        self.block_size = block_size\n",
    "        self.lr = lr\n",
    "        self.generator = generator\n",
    "        \n",
    "\n",
    "        self.C = torch.randn(len(alphabet), self.embedding_size, generator = self.generator)\n",
    "        self.W1 = torch.randn((self.embedding_size * self.block_size), self.hidden_layer, generator = self.generator)\n",
    "        self.b1 = torch.randn(self.hidden_layer,  generator = self.generator)\n",
    "        self.W2 = torch.randn((self.hidden_layer, len(alphabet)),  generator = self.generator)\n",
    "        self.b2 = torch.randn(len(alphabet),  generator = self.generator)\n",
    "        \n",
    "        self.params = [self.C, self.W1, self.b1, self.W2, self.b2]\n",
    "        \n",
    "        for p in self.params:\n",
    "            p.requires_grad = True\n",
    "        \n",
    "    def compute_loss(self, inputs, outputs):\n",
    "        inputs_onehot = torch.nn.functional.one_hot(inputs, len(alphabet))\n",
    "        embeddings_in = torch.matmul(inputs_onehot.float(), self.C)\n",
    "        embeddings_in = embeddings_in.view(-1, self.embedding_size * self.block_size)\n",
    "        out = torch.tanh(embeddings_in @ self.W1 + self.b1) @ self.W2 + self.b2\n",
    "        loss = torch.nn.functional.cross_entropy(out, outputs)\n",
    "        return loss\n",
    "    \n",
    "    def visualize(self):\n",
    "        \n",
    "        assert self.embedding_size == 2\n",
    "        plt.figure(figsize=(8,8))\n",
    "        plt.scatter(self.C[:,0].data, self.C[:, 1].data, s =400)\n",
    "        for i, char in enumerate(alphabet):\n",
    "            plt.text(self.C[i,0].item(), self.C[i,1].item(), char, ha=\"center\", va=\"center\", color=\"white\")\n",
    "        \n",
    "        \n",
    "        \n",
    "    def _forward(self, train=True):\n",
    "        if train:\n",
    "            minibatch_idx = torch.randint(self.train_inputs.size()[0], (self.batch_size,))\n",
    "            minibatch = self.train_inputs[minibatch_idx]\n",
    "            labels = self.train_labels[minibatch_idx]\n",
    "        else:\n",
    "            minibatch = self.val_inputs\n",
    "            labels = self.val_labels\n",
    "        \n",
    "        loss = self.compute_loss(minibatch, labels)\n",
    "        \n",
    "        if train:\n",
    "            for p in self.params:\n",
    "                p.grad = None\n",
    "                \n",
    "            loss.backward()\n",
    "            for p in self.params:\n",
    "                p.data -= self.lr * p.grad\n",
    "                \n",
    "        return loss\n",
    "    \n",
    "    def evaluate(self, on_validation = False):\n",
    "        if on_validation:\n",
    "            return self.compute_loss(self.val_inputs, self.val_labels).item()\n",
    "        return self.compute_loss(self.test_inputs, self.test_labels).item()\n",
    "        \n",
    "    \n",
    "    def generate(self):\n",
    "        old_char = \".\" * self.block_size\n",
    "        new_char = None\n",
    "        name = \"\"\n",
    "        while new_char != \".\":\n",
    "            x = [alphabet.index(char) for char in old_char]\n",
    "            x = torch.nn.functional.one_hot(torch.tensor(x), len(alphabet))\n",
    "            x = x.float() @ self.C\n",
    "            x = x.view(self.embedding_size * self.block_size)\n",
    "            pseudo_probs = torch.nn.functional.softmax(torch.tanh(x @ self.W1 + self.b1) @ self.W2 + self.b2)\n",
    "            sample=torch.multinomial(pseudo_probs, num_samples=1, replacement=True)\n",
    "            new_char = alphabet[sample.item()]\n",
    "            name += new_char\n",
    "            old_char = old_char[1:] + new_char\n",
    "        return name[:-1]\n",
    "           \n",
    "        \n",
    "    def train(self, verbose = True):\n",
    "        for epoch in range(self.no_epochs):\n",
    "            training_loss = self._forward()\n",
    "            validation_loss = self._forward(train=False)\n",
    "            if epoch % 2000 == 0 and verbose:\n",
    "                print(f\"Epoch: {epoch}, Training loss: {training_loss.item()}, Validation loss: {validation_loss.item()}\")\n",
    "        \n",
    "    \n",
    "        \n",
    "        "
   ]
  },
  {
   "cell_type": "code",
   "execution_count": 11,
   "id": "f7d1f1b9",
   "metadata": {},
   "outputs": [],
   "source": [
    "# Evaluate"
   ]
  },
  {
   "cell_type": "code",
   "execution_count": 12,
   "id": "580a4e02",
   "metadata": {},
   "outputs": [
    {
     "name": "stdout",
     "output_type": "stream",
     "text": [
      "Epoch: 0, Training loss: 15.75074291229248, Validation loss: 16.307416915893555\n",
      "Epoch: 2000, Training loss: 2.9200141429901123, Validation loss: 3.028886556625366\n",
      "Epoch: 4000, Training loss: 2.6818366050720215, Validation loss: 2.8806636333465576\n",
      "Epoch: 6000, Training loss: 2.7254478931427, Validation loss: 2.845858097076416\n",
      "Epoch: 8000, Training loss: 2.698960065841675, Validation loss: 2.8175501823425293\n",
      "Epoch: 10000, Training loss: 2.597160577774048, Validation loss: 2.7981457710266113\n",
      "Epoch: 12000, Training loss: 2.603267192840576, Validation loss: 2.7897074222564697\n",
      "Epoch: 14000, Training loss: 2.6189301013946533, Validation loss: 2.783658027648926\n",
      "Epoch: 16000, Training loss: 2.5152714252471924, Validation loss: 2.773317337036133\n",
      "Epoch: 18000, Training loss: 2.590458631515503, Validation loss: 2.7674055099487305\n",
      "Epoch: 20000, Training loss: 2.602492332458496, Validation loss: 2.764740467071533\n",
      "Epoch: 22000, Training loss: 2.5834131240844727, Validation loss: 2.7614572048187256\n",
      "Epoch: 24000, Training loss: 2.6008617877960205, Validation loss: 2.7593884468078613\n",
      "Epoch: 26000, Training loss: 2.579622507095337, Validation loss: 2.7551231384277344\n",
      "Epoch: 28000, Training loss: 2.4905619621276855, Validation loss: 2.7548344135284424\n",
      "\n",
      "The quality of the MLP (NLL): 2.8407375812530518\n",
      "\n",
      "Names generated by a mlp model:\n",
      "['bachuss', 'glimam', 'naphunb', 'fawibdegkitariyattumqbrdeeviet', 'jyedunote', 'sinc', 'womg', 'ple', 'mumodlorak', 'papecpiseme']\n"
     ]
    },
    {
     "name": "stderr",
     "output_type": "stream",
     "text": [
      "/var/folders/vp/0hnkqfrn1gddm9svyn1vqxhw0000gn/T/ipykernel_18255/2639766651.py:90: UserWarning: Implicit dimension choice for softmax has been deprecated. Change the call to include dim=X as an argument.\n",
      "  pseudo_probs = torch.nn.functional.softmax(torch.tanh(x @ self.W1 + self.b1) @ self.W2 + self.b2)\n"
     ]
    }
   ],
   "source": [
    "mlp = MLP(train_set = train_set, \n",
    "          val_set = val_set, \n",
    "          test_set = test_set, \n",
    "          no_epochs = 30000, \n",
    "          embedding_size = 2, \n",
    "          block_size = block_size, \n",
    "          hidden_layer = 100,\n",
    "          lr = 0.02,\n",
    "          batch_size = 512,\n",
    "          generator = generator)\n",
    "\n",
    "mlp.train()\n",
    "print(f\"\\nThe quality of the MLP (NLL): {mlp.evaluate()}\")\n",
    "mlp_names = [mlp.generate() for _ in range(10)]\n",
    "print(f\"\\nNames generated by a mlp model:\\n{mlp_names}\")\n",
    "\n",
    "            \n",
    "            "
   ]
  },
  {
   "cell_type": "code",
   "execution_count": 13,
   "id": "932218c6",
   "metadata": {},
   "outputs": [
    {
     "data": {
      "image/png": "[encoded data removed]",
      "text/plain": [
       "<Figure size 576x576 with 1 Axes>"
      ]
     },
     "metadata": {
      "needs_background": "light"
     },
     "output_type": "display_data"
    }
   ],
   "source": [
    "mlp.visualize()"
   ]
  },
  {
   "cell_type": "code",
   "execution_count": 15,
   "id": "e9d5a212",
   "metadata": {},
   "outputs": [
    {
     "name": "stdout",
     "output_type": "stream",
     "text": [
      "Epoch: 0, Training loss: 21.792390823364258, Validation loss: 20.645870208740234\n",
      "Epoch: 2000, Training loss: 2.7857160568237305, Validation loss: 2.8626670837402344\n",
      "Epoch: 4000, Training loss: 2.6701173782348633, Validation loss: 2.7841289043426514\n",
      "Epoch: 6000, Training loss: 2.589299440383911, Validation loss: 2.7586967945098877\n",
      "Epoch: 8000, Training loss: 2.6442883014678955, Validation loss: 2.748828649520874\n",
      "Epoch: 10000, Training loss: 2.5999011993408203, Validation loss: 2.7487845420837402\n",
      "Epoch: 12000, Training loss: 2.603194236755371, Validation loss: 2.749021530151367\n",
      "Epoch: 14000, Training loss: 2.575972557067871, Validation loss: 2.7414302825927734\n",
      "Epoch: 16000, Training loss: 2.5208754539489746, Validation loss: 2.730646848678589\n",
      "Epoch: 18000, Training loss: 2.552062511444092, Validation loss: 2.7386906147003174\n",
      "Epoch: 20000, Training loss: 2.607815742492676, Validation loss: 2.7272543907165527\n",
      "Epoch: 22000, Training loss: 2.597562789916992, Validation loss: 2.7343528270721436\n",
      "Epoch: 24000, Training loss: 2.5365803241729736, Validation loss: 2.724965810775757\n",
      "Epoch: 26000, Training loss: 2.5163979530334473, Validation loss: 2.72868013381958\n",
      "Epoch: 28000, Training loss: 2.420869827270508, Validation loss: 2.7334108352661133\n",
      "\n",
      "The quality of the MLP (NLL): 2.6845788955688477\n",
      "\n",
      "Names generated by a mlp model:\n",
      "['shogr', 'junciad', 'leyib', 'tiredapi', 'ritap', 'diwlotre', 'saarpocesod', 'piceubube', 'munwert', 'borbiro']\n"
     ]
    },
    {
     "name": "stderr",
     "output_type": "stream",
     "text": [
      "/var/folders/vp/0hnkqfrn1gddm9svyn1vqxhw0000gn/T/ipykernel_18255/2639766651.py:90: UserWarning: Implicit dimension choice for softmax has been deprecated. Change the call to include dim=X as an argument.\n",
      "  pseudo_probs = torch.nn.functional.softmax(torch.tanh(x @ self.W1 + self.b1) @ self.W2 + self.b2)\n"
     ]
    }
   ],
   "source": [
    "block_size = 5\n",
    "train_set = words_to_nn_dataset(training_words, block_size)\n",
    "val_set = words_to_nn_dataset(validation_words, block_size)\n",
    "test_set = words_to_nn_dataset(test_words, block_size)\n",
    "\n",
    "mlp = MLP(train_set = train_set, \n",
    "          val_set = val_set, \n",
    "          test_set = test_set, \n",
    "          no_epochs = 30000, \n",
    "          embedding_size = 2, \n",
    "          block_size = block_size, \n",
    "          hidden_layer = 200,\n",
    "          lr = 0.02,\n",
    "          batch_size = 512,\n",
    "          generator = generator)\n",
    "\n",
    "mlp.train()\n",
    "print(f\"\\nThe quality of the MLP (NLL): {mlp.evaluate()}\")\n",
    "mlp_names = [mlp.generate() for _ in range(10)]\n",
    "print(f\"\\nNames generated by a mlp model:\\n{mlp_names}\")"
   ]
  },
  {
   "cell_type": "code",
   "execution_count": 48,
   "id": "d1a0fbba",
   "metadata": {},
   "outputs": [
    {
     "data": {
      "image/png": "[encoded data removed]",
      "text/plain": [
       "<Figure size 432x288 with 1 Axes>"
      ]
     },
     "metadata": {
      "needs_background": "light"
     },
     "output_type": "display_data"
    }
   ],
   "source": [
    "from collections import Counter\n",
    "import numpy as np \n",
    "\n",
    "counts = Counter(\"\".join(words))\n",
    "\n",
    "labels, values = zip(*counts.items())\n",
    "\n",
    "# sort your values in descending order\n",
    "indSort = np.argsort(values)[::-1]\n",
    "\n",
    "# rearrange your data\n",
    "labels = np.array(labels)[indSort]\n",
    "values = np.array(values)[indSort]\n",
    "\n",
    "indexes = np.arange(len(labels))\n",
    "\n",
    "bar_width = 0.35\n",
    "\n",
    "plt.bar(indexes, values)\n",
    "\n",
    "# add labels\n",
    "plt.xticks(indexes + bar_width, labels)\n",
    "plt.show()"
   ]
  },
  {
   "cell_type": "code",
   "execution_count": null,
   "id": "190c89fa",
   "metadata": {},
   "outputs": [],
   "source": []
  }
 ],
 "metadata": {
  "kernelspec": {
   "display_name": "neuralmagic",
   "language": "python",
   "name": "python3"
  },
  "language_info": {
   "codemirror_mode": {
    "name": "ipython",
    "version": 3
   },
   "file_extension": ".py",
   "mimetype": "text/x-python",
   "name": "python",
   "nbconvert_exporter": "python",
   "pygments_lexer": "ipython3",
   "version": "3.8.6"
  }
 },
 "nbformat": 4,
 "nbformat_minor": 5
}
